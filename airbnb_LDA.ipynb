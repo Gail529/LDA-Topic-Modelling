{
  "nbformat": 4,
  "nbformat_minor": 0,
  "metadata": {
    "colab": {
      "name": "airbnb_LDA.ipynb",
      "provenance": [],
      "authorship_tag": "ABX9TyNvTPq6gooIaI4W0f47uXbL",
      "include_colab_link": true
    },
    "kernelspec": {
      "name": "python3",
      "display_name": "Python 3"
    }
  },
  "cells": [
    {
      "cell_type": "markdown",
      "metadata": {
        "id": "view-in-github",
        "colab_type": "text"
      },
      "source": [
        "<a href=\"https://colab.research.google.com/github/Gail529/LDA-Topic-Modelling/blob/master/airbnb_LDA.ipynb\" target=\"_parent\"><img src=\"https://colab.research.google.com/assets/colab-badge.svg\" alt=\"Open In Colab\"/></a>"
      ]
    },
    {
      "cell_type": "code",
      "metadata": {
        "id": "MDRFqP35Hv12",
        "outputId": "ef2cff3f-b43c-44c1-df13-176a44171fd1",
        "colab": {
          "base_uri": "https://localhost:8080/",
          "height": 68
        }
      },
      "source": [
        "#importng the libraries\n",
        "import pandas as pd\n",
        "import numpy as np\n",
        "import matplotlib.pyplot as plt\n",
        "import seaborn as sns\n",
        "import gensim \n",
        "from gensim import corpora\n",
        "import nltk\n",
        "nltk.download('punkt')"
      ],
      "execution_count": null,
      "outputs": [
        {
          "output_type": "stream",
          "text": [
            "[nltk_data] Downloading package punkt to /root/nltk_data...\n",
            "[nltk_data]   Unzipping tokenizers/punkt.zip.\n"
          ],
          "name": "stdout"
        },
        {
          "output_type": "execute_result",
          "data": {
            "text/plain": [
              "True"
            ]
          },
          "metadata": {
            "tags": []
          },
          "execution_count": 1
        }
      ]
    },
    {
      "cell_type": "code",
      "metadata": {
        "id": "tuijnQFMJMoj",
        "outputId": "fae9bb89-2c8f-4307-f6a9-8c37f8017101",
        "colab": {
          "base_uri": "https://localhost:8080/",
          "height": 530
        }
      },
      "source": [
        "airbnb_data=pd.read_csv('/content/airbnb.csv')\n",
        "airbnb_data.head()"
      ],
      "execution_count": null,
      "outputs": [
        {
          "output_type": "execute_result",
          "data": {
            "text/html": [
              "<div>\n",
              "<style scoped>\n",
              "    .dataframe tbody tr th:only-of-type {\n",
              "        vertical-align: middle;\n",
              "    }\n",
              "\n",
              "    .dataframe tbody tr th {\n",
              "        vertical-align: top;\n",
              "    }\n",
              "\n",
              "    .dataframe thead th {\n",
              "        text-align: right;\n",
              "    }\n",
              "</style>\n",
              "<table border=\"1\" class=\"dataframe\">\n",
              "  <thead>\n",
              "    <tr style=\"text-align: right;\">\n",
              "      <th></th>\n",
              "      <th>Unnamed: 0</th>\n",
              "      <th>Unnamed: 0.1</th>\n",
              "      <th>average_rate_per_night</th>\n",
              "      <th>bedrooms_count</th>\n",
              "      <th>city</th>\n",
              "      <th>date_of_listing</th>\n",
              "      <th>description</th>\n",
              "      <th>latitude</th>\n",
              "      <th>longitude</th>\n",
              "      <th>title</th>\n",
              "      <th>url</th>\n",
              "    </tr>\n",
              "  </thead>\n",
              "  <tbody>\n",
              "    <tr>\n",
              "      <th>0</th>\n",
              "      <td>0</td>\n",
              "      <td>1</td>\n",
              "      <td>$27</td>\n",
              "      <td>2</td>\n",
              "      <td>Humble</td>\n",
              "      <td>May 2016</td>\n",
              "      <td>[['welcome', 'stay', 'private', 'room', 'queen...</td>\n",
              "      <td>30.020138</td>\n",
              "      <td>-95.293996</td>\n",
              "      <td>2 Private rooms/bathroom 10min from IAH airport</td>\n",
              "      <td>https://www.airbnb.com/rooms/18520444?location...</td>\n",
              "    </tr>\n",
              "    <tr>\n",
              "      <th>1</th>\n",
              "      <td>1</td>\n",
              "      <td>2</td>\n",
              "      <td>$149</td>\n",
              "      <td>4</td>\n",
              "      <td>San Antonio</td>\n",
              "      <td>November 2010</td>\n",
              "      <td>[['stylish', 'fully', 'remodeled', 'home', 'up...</td>\n",
              "      <td>29.503068</td>\n",
              "      <td>-98.447688</td>\n",
              "      <td>Unique Location! Alamo Heights - Designer Insp...</td>\n",
              "      <td>https://www.airbnb.com/rooms/17481455?location...</td>\n",
              "    </tr>\n",
              "    <tr>\n",
              "      <th>2</th>\n",
              "      <td>2</td>\n",
              "      <td>3</td>\n",
              "      <td>$59</td>\n",
              "      <td>1</td>\n",
              "      <td>Houston</td>\n",
              "      <td>January 2017</td>\n",
              "      <td>[['river', 'house', 'island', 'close', 'city',...</td>\n",
              "      <td>29.829352</td>\n",
              "      <td>-95.081549</td>\n",
              "      <td>River house near the city</td>\n",
              "      <td>https://www.airbnb.com/rooms/16926307?location...</td>\n",
              "    </tr>\n",
              "    <tr>\n",
              "      <th>3</th>\n",
              "      <td>3</td>\n",
              "      <td>4</td>\n",
              "      <td>$60</td>\n",
              "      <td>1</td>\n",
              "      <td>Bryan</td>\n",
              "      <td>February 2016</td>\n",
              "      <td>[['private', 'bedroom', 'cute', 'little', 'hom...</td>\n",
              "      <td>30.637304</td>\n",
              "      <td>-96.337846</td>\n",
              "      <td>Private Room Close to Campus</td>\n",
              "      <td>https://www.airbnb.com/rooms/11839729?location...</td>\n",
              "    </tr>\n",
              "    <tr>\n",
              "      <th>4</th>\n",
              "      <td>4</td>\n",
              "      <td>5</td>\n",
              "      <td>$75</td>\n",
              "      <td>2</td>\n",
              "      <td>Fort Worth</td>\n",
              "      <td>February 2017</td>\n",
              "      <td>[['welcome', 'original', 'home', 'recently', '...</td>\n",
              "      <td>32.747097</td>\n",
              "      <td>-97.286434</td>\n",
              "      <td>The Porch</td>\n",
              "      <td>https://www.airbnb.com/rooms/17325114?location...</td>\n",
              "    </tr>\n",
              "  </tbody>\n",
              "</table>\n",
              "</div>"
            ],
            "text/plain": [
              "   Unnamed: 0  ...                                                url\n",
              "0           0  ...  https://www.airbnb.com/rooms/18520444?location...\n",
              "1           1  ...  https://www.airbnb.com/rooms/17481455?location...\n",
              "2           2  ...  https://www.airbnb.com/rooms/16926307?location...\n",
              "3           3  ...  https://www.airbnb.com/rooms/11839729?location...\n",
              "4           4  ...  https://www.airbnb.com/rooms/17325114?location...\n",
              "\n",
              "[5 rows x 11 columns]"
            ]
          },
          "metadata": {
            "tags": []
          },
          "execution_count": 2
        }
      ]
    },
    {
      "cell_type": "code",
      "metadata": {
        "id": "5IeKc3RV4D2x"
      },
      "source": [
        "docs=airbnb_data['description'].values\n",
        "docs=[d.split() for d in docs]"
      ],
      "execution_count": null,
      "outputs": []
    },
    {
      "cell_type": "code",
      "metadata": {
        "id": "0bAvXkvXJZ0A"
      },
      "source": [
        "doc_dictionary=corpora.Dictionary(docs)#mapping all the tokens in the documents into a unique id using gensim\n",
        "tokenids=doc_dictionary.token2id\n",
        "document_frequencies=doc_dictionary.dfs"
      ],
      "execution_count": null,
      "outputs": []
    },
    {
      "cell_type": "code",
      "metadata": {
        "id": "qe0nnFNI4cGc"
      },
      "source": [
        "print(tokenids)\n",
        "print(document_frequencies)"
      ],
      "execution_count": null,
      "outputs": []
    },
    {
      "cell_type": "code",
      "metadata": {
        "id": "wm93z2PIJd06",
        "outputId": "dab5700d-443a-4833-ce30-fcab8af830d6",
        "colab": {
          "base_uri": "https://localhost:8080/",
          "height": 207
        }
      },
      "source": [
        "doc_term_matrix = [doc_dictionary.doc2bow(doc) for doc in docs] #using a dictionary to convert the documents into  a bag of words\n",
        "Lda=gensim.models.ldamodel.LdaModel \n",
        "ldamodel = Lda(doc_term_matrix, num_topics=5, id2word =doc_dictionary, passes=50)\n",
        "ldamodel.print_topics(num_topics=5,num_words=10)\n"
      ],
      "execution_count": null,
      "outputs": [
        {
          "output_type": "execute_result",
          "data": {
            "text/plain": [
              "[(0,\n",
              "  '0.025*\"\\'room\\',\" + 0.020*\"\\'bed\\',\" + 0.019*\"\\'bedroom\\',\" + 0.018*\"\\'kitchen\\',\" + 0.017*\"\\'private\\',\" + 0.015*\"\\'full\\',\" + 0.013*\"\\'bathroom\\',\" + 0.012*\"\\'queen\\',\" + 0.012*\"\\'living\\',\" + 0.011*\"\\'bath\\',\"'),\n",
              " (1,\n",
              "  '0.029*\"\\'downtown\\',\" + 0.022*\"\\'minutes\\',\" + 0.015*\"\\'located\\',\" + 0.014*\"\\'amp\\',\" + 0.014*\"\\'restaurants\\',\" + 0.014*\"\\'miles\\',\" + 0.013*\"\\'home\\',\" + 0.012*\"\\'close\\',\" + 0.011*\"\\'dallas\\',\" + 0.011*\"\\'neighborhood\\',\"'),\n",
              " (2,\n",
              "  '0.017*\"\\'home\\',\" + 0.012*\"\\'lake\\',\" + 0.011*\"\\'enjoy\\',\" + 0.010*\"\\'beach\\',\" + 0.009*\"\\'house\\',\" + 0.008*\"\\'located\\',\" + 0.007*\"\\'texas\\',\" + 0.007*\"\\'country\\',\" + 0.007*\"\\'perfect\\',\" + 0.007*\"\\'beautiful\\',\"'),\n",
              " (3,\n",
              "  '0.107*\"\\'n\\',\" + 0.011*\"\\'r\\',\" + 0.010*\"\\'available\\',\" + 0.007*\"\\'stay\\',\" + 0.007*\"\\'guests\\',\" + 0.006*\"\\'please\\',\" + 0.006*\"\\'min\\',\" + 0.006*\"\\'nwe\\',\" + 0.006*\"\\'check\\',\" + 0.005*\"\\'nthe\\',\"'),\n",
              " (4,\n",
              "  '0.071*\"\\'place\\',\" + 0.042*\"\\'business\\',\" + 0.040*\"\\'couples\\',\" + 0.036*\"\\'close\\',\" + 0.036*\"\\'good\\',\" + 0.033*\"\\'solo\\',\" + 0.033*\"\\'love\\',\" + 0.031*\"\\'adventurers\\',\" + 0.028*\"\\'travelers\\',\" + 0.027*\"[[\\'place\\',\"')]"
            ]
          },
          "metadata": {
            "tags": []
          },
          "execution_count": 7
        }
      ]
    }
  ]
}