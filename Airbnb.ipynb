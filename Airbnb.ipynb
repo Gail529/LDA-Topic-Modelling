{
  "nbformat": 4,
  "nbformat_minor": 0,
  "metadata": {
    "colab": {
      "name": "Airbnb.ipynb",
      "provenance": [],
      "collapsed_sections": [],
      "authorship_tag": "ABX9TyOxmS61H1u/g7xdzgobI12K",
      "include_colab_link": true
    },
    "kernelspec": {
      "name": "python3",
      "display_name": "Python 3"
    }
  },
  "cells": [
    {
      "cell_type": "markdown",
      "metadata": {
        "id": "view-in-github",
        "colab_type": "text"
      },
      "source": [
        "<a href=\"https://colab.research.google.com/github/Gail529/LDA-Topic-Modelling/blob/master/Airbnb.ipynb\" target=\"_parent\"><img src=\"https://colab.research.google.com/assets/colab-badge.svg\" alt=\"Open In Colab\"/></a>"
      ]
    },
    {
      "cell_type": "code",
      "metadata": {
        "id": "qd_4Oy_PVJpz",
        "outputId": "59da6c72-e400-4a99-a518-70a00c33c408",
        "colab": {
          "base_uri": "https://localhost:8080/",
          "height": 119
        }
      },
      "source": [
        "\n",
        "import pandas as pd\n",
        "from pandas_profiling import ProfileReport\n",
        "import numpy as np\n",
        "import matplotlib.pyplot as plt\n",
        "import seaborn as sns\n",
        "\n",
        "#TOPICMODELLING\n",
        "import gensim\n",
        "from gensim import corpora\n",
        "\n",
        "#text preprocessing \n",
        "import nltk\n",
        "nltk.download('punkt')\n",
        "nltk.download('stopwords')\n",
        "nltk.download('wordnet')\n",
        "import string\n",
        "import re\n",
        "from nltk.tokenize import word_tokenize,sent_tokenize\n",
        "from nltk.stem import WordNetLemmatizer\n",
        "from nltk.corpus import stopwords"
      ],
      "execution_count": 21,
      "outputs": [
        {
          "output_type": "stream",
          "text": [
            "[nltk_data] Downloading package punkt to /root/nltk_data...\n",
            "[nltk_data]   Package punkt is already up-to-date!\n",
            "[nltk_data] Downloading package stopwords to /root/nltk_data...\n",
            "[nltk_data]   Package stopwords is already up-to-date!\n",
            "[nltk_data] Downloading package wordnet to /root/nltk_data...\n",
            "[nltk_data]   Package wordnet is already up-to-date!\n"
          ],
          "name": "stdout"
        }
      ]
    },
    {
      "cell_type": "code",
      "metadata": {
        "id": "D_LorDc-aFXp",
        "outputId": "8802a690-6831-42d9-bf72-4f90d3e25df5",
        "colab": {
          "base_uri": "https://localhost:8080/",
          "height": 547
        }
      },
      "source": [
        "data=pd.read_csv('/content/Airbnb_Texas_Rentals.csv')\n",
        "data.head(5)"
      ],
      "execution_count": 41,
      "outputs": [
        {
          "output_type": "execute_result",
          "data": {
            "text/html": [
              "<div>\n",
              "<style scoped>\n",
              "    .dataframe tbody tr th:only-of-type {\n",
              "        vertical-align: middle;\n",
              "    }\n",
              "\n",
              "    .dataframe tbody tr th {\n",
              "        vertical-align: top;\n",
              "    }\n",
              "\n",
              "    .dataframe thead th {\n",
              "        text-align: right;\n",
              "    }\n",
              "</style>\n",
              "<table border=\"1\" class=\"dataframe\">\n",
              "  <thead>\n",
              "    <tr style=\"text-align: right;\">\n",
              "      <th></th>\n",
              "      <th>Unnamed: 0</th>\n",
              "      <th>average_rate_per_night</th>\n",
              "      <th>bedrooms_count</th>\n",
              "      <th>city</th>\n",
              "      <th>date_of_listing</th>\n",
              "      <th>description</th>\n",
              "      <th>latitude</th>\n",
              "      <th>longitude</th>\n",
              "      <th>title</th>\n",
              "      <th>url</th>\n",
              "    </tr>\n",
              "  </thead>\n",
              "  <tbody>\n",
              "    <tr>\n",
              "      <th>0</th>\n",
              "      <td>1</td>\n",
              "      <td>$27</td>\n",
              "      <td>2</td>\n",
              "      <td>Humble</td>\n",
              "      <td>May 2016</td>\n",
              "      <td>Welcome to stay in private room with queen bed...</td>\n",
              "      <td>30.020138</td>\n",
              "      <td>-95.293996</td>\n",
              "      <td>2 Private rooms/bathroom 10min from IAH airport</td>\n",
              "      <td>https://www.airbnb.com/rooms/18520444?location...</td>\n",
              "    </tr>\n",
              "    <tr>\n",
              "      <th>1</th>\n",
              "      <td>2</td>\n",
              "      <td>$149</td>\n",
              "      <td>4</td>\n",
              "      <td>San Antonio</td>\n",
              "      <td>November 2010</td>\n",
              "      <td>Stylish, fully remodeled home in upscale NW – ...</td>\n",
              "      <td>29.503068</td>\n",
              "      <td>-98.447688</td>\n",
              "      <td>Unique Location! Alamo Heights - Designer Insp...</td>\n",
              "      <td>https://www.airbnb.com/rooms/17481455?location...</td>\n",
              "    </tr>\n",
              "    <tr>\n",
              "      <th>2</th>\n",
              "      <td>3</td>\n",
              "      <td>$59</td>\n",
              "      <td>1</td>\n",
              "      <td>Houston</td>\n",
              "      <td>January 2017</td>\n",
              "      <td>'River house on island close to the city' \\nA ...</td>\n",
              "      <td>29.829352</td>\n",
              "      <td>-95.081549</td>\n",
              "      <td>River house near the city</td>\n",
              "      <td>https://www.airbnb.com/rooms/16926307?location...</td>\n",
              "    </tr>\n",
              "    <tr>\n",
              "      <th>3</th>\n",
              "      <td>4</td>\n",
              "      <td>$60</td>\n",
              "      <td>1</td>\n",
              "      <td>Bryan</td>\n",
              "      <td>February 2016</td>\n",
              "      <td>Private bedroom in a cute little home situated...</td>\n",
              "      <td>30.637304</td>\n",
              "      <td>-96.337846</td>\n",
              "      <td>Private Room Close to Campus</td>\n",
              "      <td>https://www.airbnb.com/rooms/11839729?location...</td>\n",
              "    </tr>\n",
              "    <tr>\n",
              "      <th>4</th>\n",
              "      <td>5</td>\n",
              "      <td>$75</td>\n",
              "      <td>2</td>\n",
              "      <td>Fort Worth</td>\n",
              "      <td>February 2017</td>\n",
              "      <td>Welcome to our original 1920's home. We recent...</td>\n",
              "      <td>32.747097</td>\n",
              "      <td>-97.286434</td>\n",
              "      <td>The Porch</td>\n",
              "      <td>https://www.airbnb.com/rooms/17325114?location...</td>\n",
              "    </tr>\n",
              "  </tbody>\n",
              "</table>\n",
              "</div>"
            ],
            "text/plain": [
              "   Unnamed: 0  ...                                                url\n",
              "0           1  ...  https://www.airbnb.com/rooms/18520444?location...\n",
              "1           2  ...  https://www.airbnb.com/rooms/17481455?location...\n",
              "2           3  ...  https://www.airbnb.com/rooms/16926307?location...\n",
              "3           4  ...  https://www.airbnb.com/rooms/11839729?location...\n",
              "4           5  ...  https://www.airbnb.com/rooms/17325114?location...\n",
              "\n",
              "[5 rows x 10 columns]"
            ]
          },
          "metadata": {
            "tags": []
          },
          "execution_count": 41
        }
      ]
    },
    {
      "cell_type": "code",
      "metadata": {
        "id": "E0PVq7QWpcRN",
        "outputId": "78aa757d-d68b-43c5-8a8c-54f4947d4913",
        "colab": {
          "base_uri": "https://localhost:8080/",
          "height": 714
        }
      },
      "source": [
        "missing_values=data.isnull().sum()\n",
        "dtypes=data.dtypes\n",
        "shape=data.shape\n",
        "info=data.info()\n",
        "print('missing_values',missing_values)\n",
        "print('datatypes',dtypes)\n",
        "print('Shape',shape)\n",
        "print('Info',info)\n",
        "\n"
      ],
      "execution_count": 52,
      "outputs": [
        {
          "output_type": "stream",
          "text": [
            "<class 'pandas.core.frame.DataFrame'>\n",
            "RangeIndex: 18259 entries, 0 to 18258\n",
            "Data columns (total 10 columns):\n",
            " #   Column                  Non-Null Count  Dtype  \n",
            "---  ------                  --------------  -----  \n",
            " 0   Unnamed: 0              18259 non-null  int64  \n",
            " 1   average_rate_per_night  18231 non-null  object \n",
            " 2   bedrooms_count          18256 non-null  object \n",
            " 3   city                    18259 non-null  object \n",
            " 4   date_of_listing         18259 non-null  object \n",
            " 5   description             18257 non-null  object \n",
            " 6   latitude                18225 non-null  float64\n",
            " 7   longitude               18225 non-null  float64\n",
            " 8   title                   18256 non-null  object \n",
            " 9   url                     18259 non-null  object \n",
            "dtypes: float64(2), int64(1), object(7)\n",
            "memory usage: 1.4+ MB\n",
            "missing_values Unnamed: 0                 0\n",
            "average_rate_per_night    28\n",
            "bedrooms_count             3\n",
            "city                       0\n",
            "date_of_listing            0\n",
            "description                2\n",
            "latitude                  34\n",
            "longitude                 34\n",
            "title                      3\n",
            "url                        0\n",
            "dtype: int64\n",
            "datatypes Unnamed: 0                  int64\n",
            "average_rate_per_night     object\n",
            "bedrooms_count             object\n",
            "city                       object\n",
            "date_of_listing            object\n",
            "description                object\n",
            "latitude                  float64\n",
            "longitude                 float64\n",
            "title                      object\n",
            "url                        object\n",
            "dtype: object\n",
            "Shape (18259, 10)\n",
            "Info None\n"
          ],
          "name": "stdout"
        }
      ]
    },
    {
      "cell_type": "code",
      "metadata": {
        "id": "_X69A-ftwJy3",
        "outputId": "bb729c65-d531-49f3-85ed-8e6a0471798d",
        "colab": {
          "base_uri": "https://localhost:8080/",
          "height": 34
        }
      },
      "source": [
        "data['bedrooms_count'].unique()\n",
        "data['city'].nunique"
      ],
      "execution_count": 39,
      "outputs": [
        {
          "output_type": "execute_result",
          "data": {
            "text/plain": [
              "505"
            ]
          },
          "metadata": {
            "tags": []
          },
          "execution_count": 39
        }
      ]
    },
    {
      "cell_type": "code",
      "metadata": {
        "id": "sZFzuOD2yBFu",
        "outputId": "94701ca6-17c4-4a92-add0-a5164dd92105",
        "colab": {
          "base_uri": "https://localhost:8080/",
          "height": 333
        }
      },
      "source": [
        "price=data['average_rate_per_night']\n",
        "def  remove_punctuation(word): #function will take in the lowercased text and then remove all the punctuation\n",
        "    translator=str.maketrans('','',string.punctuation)\n",
        "    price=word.translate(translator)\n",
        "    return price\n",
        "for p in price:\n",
        "  remove_punctuation(p)  \n",
        "    "
      ],
      "execution_count": 57,
      "outputs": [
        {
          "output_type": "error",
          "ename": "AttributeError",
          "evalue": "ignored",
          "traceback": [
            "\u001b[0;31m---------------------------------------------------------------------------\u001b[0m",
            "\u001b[0;31mAttributeError\u001b[0m                            Traceback (most recent call last)",
            "\u001b[0;32m<ipython-input-57-ff3ab116459a>\u001b[0m in \u001b[0;36m<module>\u001b[0;34m()\u001b[0m\n\u001b[1;32m      5\u001b[0m     \u001b[0;32mreturn\u001b[0m \u001b[0mprice\u001b[0m\u001b[0;34m\u001b[0m\u001b[0;34m\u001b[0m\u001b[0m\n\u001b[1;32m      6\u001b[0m \u001b[0;32mfor\u001b[0m \u001b[0mp\u001b[0m \u001b[0;32min\u001b[0m \u001b[0mprice\u001b[0m\u001b[0;34m:\u001b[0m\u001b[0;34m\u001b[0m\u001b[0;34m\u001b[0m\u001b[0m\n\u001b[0;32m----> 7\u001b[0;31m   \u001b[0mremove_punctuation\u001b[0m\u001b[0;34m(\u001b[0m\u001b[0mp\u001b[0m\u001b[0;34m)\u001b[0m\u001b[0;34m\u001b[0m\u001b[0;34m\u001b[0m\u001b[0m\n\u001b[0m\u001b[1;32m      8\u001b[0m \u001b[0;34m\u001b[0m\u001b[0m\n",
            "\u001b[0;32m<ipython-input-57-ff3ab116459a>\u001b[0m in \u001b[0;36mremove_punctuation\u001b[0;34m(word)\u001b[0m\n\u001b[1;32m      2\u001b[0m \u001b[0;32mdef\u001b[0m  \u001b[0mremove_punctuation\u001b[0m\u001b[0;34m(\u001b[0m\u001b[0mword\u001b[0m\u001b[0;34m)\u001b[0m\u001b[0;34m:\u001b[0m \u001b[0;31m#function will take in the lowercased text and then remove all the punctuation\u001b[0m\u001b[0;34m\u001b[0m\u001b[0;34m\u001b[0m\u001b[0m\n\u001b[1;32m      3\u001b[0m     \u001b[0mtranslator\u001b[0m\u001b[0;34m=\u001b[0m\u001b[0mstr\u001b[0m\u001b[0;34m.\u001b[0m\u001b[0mmaketrans\u001b[0m\u001b[0;34m(\u001b[0m\u001b[0;34m''\u001b[0m\u001b[0;34m,\u001b[0m\u001b[0;34m''\u001b[0m\u001b[0;34m,\u001b[0m\u001b[0mstring\u001b[0m\u001b[0;34m.\u001b[0m\u001b[0mpunctuation\u001b[0m\u001b[0;34m)\u001b[0m\u001b[0;34m\u001b[0m\u001b[0;34m\u001b[0m\u001b[0m\n\u001b[0;32m----> 4\u001b[0;31m     \u001b[0mprice\u001b[0m\u001b[0;34m=\u001b[0m\u001b[0mword\u001b[0m\u001b[0;34m.\u001b[0m\u001b[0mtranslate\u001b[0m\u001b[0;34m(\u001b[0m\u001b[0mtranslator\u001b[0m\u001b[0;34m)\u001b[0m\u001b[0;34m\u001b[0m\u001b[0;34m\u001b[0m\u001b[0m\n\u001b[0m\u001b[1;32m      5\u001b[0m     \u001b[0;32mreturn\u001b[0m \u001b[0mprice\u001b[0m\u001b[0;34m\u001b[0m\u001b[0;34m\u001b[0m\u001b[0m\n\u001b[1;32m      6\u001b[0m \u001b[0;32mfor\u001b[0m \u001b[0mp\u001b[0m \u001b[0;32min\u001b[0m \u001b[0mprice\u001b[0m\u001b[0;34m:\u001b[0m\u001b[0;34m\u001b[0m\u001b[0;34m\u001b[0m\u001b[0m\n",
            "\u001b[0;31mAttributeError\u001b[0m: 'float' object has no attribute 'translate'"
          ]
        }
      ]
    },
    {
      "cell_type": "code",
      "metadata": {
        "id": "BQXyNwKI3BU3"
      },
      "source": [
        "sns.set(style='darkgrid',color_codes=True,palette='deep')\n",
        "sns.distplot(data['average_rate_per_night'])\n",
        "plt.show"
      ],
      "execution_count": null,
      "outputs": []
    }
  ]
}